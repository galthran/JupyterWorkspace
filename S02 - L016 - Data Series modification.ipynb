{
 "cells": [
  {
   "cell_type": "code",
   "execution_count": 1,
   "id": "5397b943",
   "metadata": {},
   "outputs": [],
   "source": [
    "import pandas as pd\n",
    "import numpy as np\n",
    "import matplotlib.pyplot as plt\n",
    "import math as math"
   ]
  },
  {
   "cell_type": "code",
   "execution_count": 2,
   "id": "a0acaedb",
   "metadata": {},
   "outputs": [],
   "source": [
    "surveys = pd.read_csv('data/StackOverflowDeveloperSurvey.csv', usecols=['Salary']).squeeze()"
   ]
  },
  {
   "cell_type": "code",
   "execution_count": 3,
   "id": "d9b85959",
   "metadata": {},
   "outputs": [],
   "source": [
    "surveys.dropna(inplace=True)"
   ]
  },
  {
   "cell_type": "code",
   "execution_count": 4,
   "id": "2337cc7a",
   "metadata": {},
   "outputs": [
    {
     "data": {
      "text/plain": [
       "2        113750.000000\n",
       "14       100000.000000\n",
       "17       130000.000000\n",
       "18        82500.000000\n",
       "22       100764.000000\n",
       "             ...      \n",
       "51371     74193.548387\n",
       "51378    107526.881720\n",
       "51382     32258.064516\n",
       "51387     58000.000000\n",
       "51390     40000.000000\n",
       "Name: Salary, Length: 12891, dtype: float64"
      ]
     },
     "execution_count": 4,
     "metadata": {},
     "output_type": "execute_result"
    }
   ],
   "source": [
    "surveys"
   ]
  },
  {
   "cell_type": "code",
   "execution_count": 5,
   "id": "6f4429b7",
   "metadata": {},
   "outputs": [
    {
     "data": {
      "text/plain": [
       "12891"
      ]
     },
     "execution_count": 5,
     "metadata": {},
     "output_type": "execute_result"
    }
   ],
   "source": [
    "surveys.count()"
   ]
  },
  {
   "cell_type": "code",
   "execution_count": 8,
   "id": "5df55aed",
   "metadata": {},
   "outputs": [],
   "source": [
    "surveysIncrease = surveys * 0.03"
   ]
  },
  {
   "cell_type": "code",
   "execution_count": 9,
   "id": "def6d7a4",
   "metadata": {},
   "outputs": [
    {
     "data": {
      "text/plain": [
       "2        3412.500000\n",
       "14       3000.000000\n",
       "17       3900.000000\n",
       "18       2475.000000\n",
       "22       3022.920000\n",
       "            ...     \n",
       "51371    2225.806452\n",
       "51378    3225.806452\n",
       "51382     967.741935\n",
       "51387    1740.000000\n",
       "51390    1200.000000\n",
       "Name: Salary, Length: 12891, dtype: float64"
      ]
     },
     "execution_count": 9,
     "metadata": {},
     "output_type": "execute_result"
    }
   ],
   "source": [
    "surveysIncrease"
   ]
  },
  {
   "cell_type": "code",
   "execution_count": 10,
   "id": "0ed4d7ae",
   "metadata": {},
   "outputs": [],
   "source": [
    "surveysAfterIncrease = surveys + surveysIncrease"
   ]
  },
  {
   "cell_type": "code",
   "execution_count": 11,
   "id": "54e9a500",
   "metadata": {},
   "outputs": [
    {
     "data": {
      "text/plain": [
       "2        117162.500000\n",
       "14       103000.000000\n",
       "17       133900.000000\n",
       "18        84975.000000\n",
       "22       103786.920000\n",
       "             ...      \n",
       "51371     76419.354839\n",
       "51378    110752.688172\n",
       "51382     33225.806452\n",
       "51387     59740.000000\n",
       "51390     41200.000000\n",
       "Name: Salary, Length: 12891, dtype: float64"
      ]
     },
     "execution_count": 11,
     "metadata": {},
     "output_type": "execute_result"
    }
   ],
   "source": [
    "surveysAfterIncrease"
   ]
  },
  {
   "cell_type": "code",
   "execution_count": 12,
   "id": "652a9289",
   "metadata": {},
   "outputs": [],
   "source": [
    "surveysTime = pd.read_csv('data/StackOverflowDeveloperSurvey2018.csv', low_memory=False, usecols=['HoursOutside']).squeeze()"
   ]
  },
  {
   "cell_type": "code",
   "execution_count": 13,
   "id": "888f3fb8",
   "metadata": {},
   "outputs": [],
   "source": [
    "surveysTime.dropna(inplace=True)"
   ]
  },
  {
   "cell_type": "code",
   "execution_count": 14,
   "id": "e844a0a3",
   "metadata": {},
   "outputs": [
    {
     "data": {
      "text/plain": [
       "0                 1 - 2 hours\n",
       "1             30 - 59 minutes\n",
       "3        Less than 30 minutes\n",
       "4                 1 - 2 hours\n",
       "5             30 - 59 minutes\n",
       "                 ...         \n",
       "93408             1 - 2 hours\n",
       "93416             3 - 4 hours\n",
       "93435             1 - 2 hours\n",
       "93442    Less than 30 minutes\n",
       "93462             1 - 2 hours\n",
       "Name: HoursOutside, Length: 72024, dtype: object"
      ]
     },
     "execution_count": 14,
     "metadata": {},
     "output_type": "execute_result"
    }
   ],
   "source": [
    "surveysTime"
   ]
  },
  {
   "cell_type": "code",
   "execution_count": 15,
   "id": "afe1d3d6",
   "metadata": {},
   "outputs": [
    {
     "data": {
      "text/plain": [
       "72024"
      ]
     },
     "execution_count": 15,
     "metadata": {},
     "output_type": "execute_result"
    }
   ],
   "source": [
    "len(surveysTime)"
   ]
  },
  {
   "cell_type": "code",
   "execution_count": 16,
   "id": "c7bba873",
   "metadata": {},
   "outputs": [
    {
     "data": {
      "text/plain": [
       "1 - 2 hours             27788\n",
       "30 - 59 minutes         24002\n",
       "Less than 30 minutes    11223\n",
       "3 - 4 hours              7186\n",
       "Over 4 hours             1825\n",
       "Name: HoursOutside, dtype: int64"
      ]
     },
     "execution_count": 16,
     "metadata": {},
     "output_type": "execute_result"
    }
   ],
   "source": [
    "surveysTime.value_counts()"
   ]
  },
  {
   "cell_type": "code",
   "execution_count": 17,
   "id": "030c6c68",
   "metadata": {},
   "outputs": [],
   "source": [
    "surveysTime = surveysTime.apply(lambda t: t.upper())"
   ]
  },
  {
   "cell_type": "code",
   "execution_count": 18,
   "id": "aef7cd7f",
   "metadata": {},
   "outputs": [
    {
     "data": {
      "text/plain": [
       "1 - 2 HOURS             27788\n",
       "30 - 59 MINUTES         24002\n",
       "LESS THAN 30 MINUTES    11223\n",
       "3 - 4 HOURS              7186\n",
       "OVER 4 HOURS             1825\n",
       "Name: HoursOutside, dtype: int64"
      ]
     },
     "execution_count": 18,
     "metadata": {},
     "output_type": "execute_result"
    }
   ],
   "source": [
    "surveysTime.value_counts()"
   ]
  },
  {
   "cell_type": "code",
   "execution_count": 19,
   "id": "b0545aef",
   "metadata": {},
   "outputs": [],
   "source": [
    "def ChangeDescription(t):\n",
    "    if t == \"LESS THAN 30 MINUTES\":\n",
    "        return \"LESS THAN HALF HOUR\"\n",
    "    else:\n",
    "        return t"
   ]
  },
  {
   "cell_type": "code",
   "execution_count": 21,
   "id": "fc0f3afc",
   "metadata": {},
   "outputs": [
    {
     "data": {
      "text/plain": [
       "'a'"
      ]
     },
     "execution_count": 21,
     "metadata": {},
     "output_type": "execute_result"
    }
   ],
   "source": [
    "ChangeDescription(\"a\")"
   ]
  },
  {
   "cell_type": "code",
   "execution_count": 22,
   "id": "c67e03c6",
   "metadata": {},
   "outputs": [
    {
     "data": {
      "text/plain": [
       "'LESS THAN HALF HOUR'"
      ]
     },
     "execution_count": 22,
     "metadata": {},
     "output_type": "execute_result"
    }
   ],
   "source": [
    "ChangeDescription(\"LESS THAN 30 MINUTES\")"
   ]
  },
  {
   "cell_type": "code",
   "execution_count": 23,
   "id": "00c376fa",
   "metadata": {},
   "outputs": [
    {
     "data": {
      "text/plain": [
       "0                1 - 2 HOURS\n",
       "1            30 - 59 MINUTES\n",
       "3        LESS THAN HALF HOUR\n",
       "4                1 - 2 HOURS\n",
       "5            30 - 59 MINUTES\n",
       "                ...         \n",
       "93408            1 - 2 HOURS\n",
       "93416            3 - 4 HOURS\n",
       "93435            1 - 2 HOURS\n",
       "93442    LESS THAN HALF HOUR\n",
       "93462            1 - 2 HOURS\n",
       "Name: HoursOutside, Length: 72024, dtype: object"
      ]
     },
     "execution_count": 23,
     "metadata": {},
     "output_type": "execute_result"
    }
   ],
   "source": [
    "surveysTime.apply(ChangeDescription)"
   ]
  },
  {
   "cell_type": "code",
   "execution_count": 24,
   "id": "4f76f612",
   "metadata": {},
   "outputs": [
    {
     "data": {
      "text/plain": [
       "1 - 2 HOURS             27788\n",
       "30 - 59 MINUTES         24002\n",
       "LESS THAN 30 MINUTES    11223\n",
       "3 - 4 HOURS              7186\n",
       "OVER 4 HOURS             1825\n",
       "Name: HoursOutside, dtype: int64"
      ]
     },
     "execution_count": 24,
     "metadata": {},
     "output_type": "execute_result"
    }
   ],
   "source": [
    "surveysTime.value_counts()"
   ]
  },
  {
   "cell_type": "code",
   "execution_count": 25,
   "id": "a77b351d",
   "metadata": {},
   "outputs": [],
   "source": [
    "surveysTime = surveysTime.apply(ChangeDescription)"
   ]
  },
  {
   "cell_type": "code",
   "execution_count": 26,
   "id": "d262a03e",
   "metadata": {},
   "outputs": [
    {
     "data": {
      "text/plain": [
       "1 - 2 HOURS            27788\n",
       "30 - 59 MINUTES        24002\n",
       "LESS THAN HALF HOUR    11223\n",
       "3 - 4 HOURS             7186\n",
       "OVER 4 HOURS            1825\n",
       "Name: HoursOutside, dtype: int64"
      ]
     },
     "execution_count": 26,
     "metadata": {},
     "output_type": "execute_result"
    }
   ],
   "source": [
    "surveysTime.value_counts()"
   ]
  },
  {
   "cell_type": "code",
   "execution_count": null,
   "id": "e3ff97d2",
   "metadata": {},
   "outputs": [],
   "source": []
  }
 ],
 "metadata": {
  "kernelspec": {
   "display_name": "Python 3 (ipykernel)",
   "language": "python",
   "name": "python3"
  },
  "language_info": {
   "codemirror_mode": {
    "name": "ipython",
    "version": 3
   },
   "file_extension": ".py",
   "mimetype": "text/x-python",
   "name": "python",
   "nbconvert_exporter": "python",
   "pygments_lexer": "ipython3",
   "version": "3.9.15"
  }
 },
 "nbformat": 4,
 "nbformat_minor": 5
}
