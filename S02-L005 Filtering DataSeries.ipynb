{
 "cells": [
  {
   "cell_type": "code",
   "execution_count": 1,
   "id": "9d020546",
   "metadata": {},
   "outputs": [],
   "source": [
    "import pandas as pd\n",
    "import numpy as np\n",
    "import matplotlib.pyplot as plt\n",
    "import math as math"
   ]
  },
  {
   "cell_type": "code",
   "execution_count": 2,
   "id": "8de8ccdd",
   "metadata": {},
   "outputs": [
    {
     "data": {
      "text/plain": [
       "[14, 334, 312, 5823, 9491, 7486, 4343]"
      ]
     },
     "execution_count": 2,
     "metadata": {},
     "output_type": "execute_result"
    }
   ],
   "source": [
    "age = [14,334,312,5823,9491,7486,4343]\n",
    "age"
   ]
  },
  {
   "cell_type": "code",
   "execution_count": 3,
   "id": "7ad669c2",
   "metadata": {},
   "outputs": [
    {
     "data": {
      "text/plain": [
       "[14, 334, 312, 5823, 9491, 7486, 4343]"
      ]
     },
     "execution_count": 3,
     "metadata": {},
     "output_type": "execute_result"
    }
   ],
   "source": [
    "incidentList = [14,334,312,5823,9491,7486,4343]\n",
    "incidentList"
   ]
  },
  {
   "cell_type": "code",
   "execution_count": 4,
   "id": "d0ef1271",
   "metadata": {},
   "outputs": [
    {
     "data": {
      "text/plain": [
       "[6, -7, -2, -6, -14, -19, 60]"
      ]
     },
     "execution_count": 4,
     "metadata": {},
     "output_type": "execute_result"
    }
   ],
   "source": [
    "ageList = [6, 7-14, 15-17, 18-24, 25-39, 40-59, 60]\n",
    "ageList"
   ]
  },
  {
   "cell_type": "code",
   "execution_count": 5,
   "id": "b36b0736",
   "metadata": {},
   "outputs": [
    {
     "data": {
      "text/plain": [
       "['6', '7-14', '15-17', '18-24', '25-39', '40-59', '60']"
      ]
     },
     "execution_count": 5,
     "metadata": {},
     "output_type": "execute_result"
    }
   ],
   "source": [
    "ageList = [\"6\", \"7-14\", \"15-17\", \"18-24\", \"25-39\", \"40-59\", \"60\"]\n",
    "ageList"
   ]
  },
  {
   "cell_type": "code",
   "execution_count": 6,
   "id": "df7f3590",
   "metadata": {},
   "outputs": [
    {
     "data": {
      "text/plain": [
       "6          14\n",
       "7-14      334\n",
       "15-17     312\n",
       "18-24    5823\n",
       "25-39    9491\n",
       "40-59    7486\n",
       "60       4343\n",
       "dtype: int64"
      ]
     },
     "execution_count": 6,
     "metadata": {},
     "output_type": "execute_result"
    }
   ],
   "source": [
    "incidents = pd.Series(data=incidentList, index=ageList)\n",
    "incidents"
   ]
  },
  {
   "cell_type": "code",
   "execution_count": 7,
   "id": "41b58ba4",
   "metadata": {},
   "outputs": [
    {
     "data": {
      "text/plain": [
       "6           NaN\n",
       "7-14        NaN\n",
       "15-17       NaN\n",
       "18-24    5823.0\n",
       "25-39    9491.0\n",
       "40-59    7486.0\n",
       "60       4343.0\n",
       "dtype: float64"
      ]
     },
     "execution_count": 7,
     "metadata": {},
     "output_type": "execute_result"
    }
   ],
   "source": [
    "incidents.where(incidents > 1000)"
   ]
  },
  {
   "cell_type": "code",
   "execution_count": 8,
   "id": "e066b978",
   "metadata": {},
   "outputs": [
    {
     "data": {
      "text/plain": [
       "18-24    5823.0\n",
       "25-39    9491.0\n",
       "40-59    7486.0\n",
       "60       4343.0\n",
       "dtype: float64"
      ]
     },
     "execution_count": 8,
     "metadata": {},
     "output_type": "execute_result"
    }
   ],
   "source": [
    "incidents.where(incidents > 1000).dropna()"
   ]
  },
  {
   "cell_type": "code",
   "execution_count": 9,
   "id": "6511cb05",
   "metadata": {},
   "outputs": [
    {
     "data": {
      "text/plain": [
       "18-24    5823.0\n",
       "25-39    9491.0\n",
       "40-59    7486.0\n",
       "60       4343.0\n",
       "dtype: float64"
      ]
     },
     "execution_count": 9,
     "metadata": {},
     "output_type": "execute_result"
    }
   ],
   "source": [
    "incident1000 = incidents.where(incidents > 1000).dropna()\n",
    "incident1000"
   ]
  },
  {
   "cell_type": "code",
   "execution_count": 10,
   "id": "a30ebce3",
   "metadata": {},
   "outputs": [
    {
     "data": {
      "text/plain": [
       "6          14\n",
       "7-14      334\n",
       "15-17     312\n",
       "18-24    5823\n",
       "25-39    9491\n",
       "40-59    7486\n",
       "60       4343\n",
       "dtype: int64"
      ]
     },
     "execution_count": 10,
     "metadata": {},
     "output_type": "execute_result"
    }
   ],
   "source": [
    "incidents"
   ]
  },
  {
   "cell_type": "code",
   "execution_count": 11,
   "id": "872e2650",
   "metadata": {},
   "outputs": [
    {
     "data": {
      "text/plain": [
       "18-24    5823\n",
       "25-39    9491\n",
       "40-59    7486\n",
       "dtype: int64"
      ]
     },
     "execution_count": 11,
     "metadata": {},
     "output_type": "execute_result"
    }
   ],
   "source": [
    "incidents.filter(items=[\"18-24\", \"25-39\", \"40-59\"])"
   ]
  },
  {
   "cell_type": "code",
   "execution_count": 13,
   "id": "b6b9491a",
   "metadata": {},
   "outputs": [
    {
     "data": {
      "text/plain": [
       "6         14.0\n",
       "7-14     334.0\n",
       "15-17    312.0\n",
       "dtype: float64"
      ]
     },
     "execution_count": 13,
     "metadata": {},
     "output_type": "execute_result"
    }
   ],
   "source": [
    "incidents.where(incidents < 1000, inplace=True)\n",
    "incidents.dropna(inplace=True)\n",
    "incidents"
   ]
  },
  {
   "cell_type": "code",
   "execution_count": null,
   "id": "dd0829d1",
   "metadata": {},
   "outputs": [],
   "source": []
  }
 ],
 "metadata": {
  "kernelspec": {
   "display_name": "Python 3 (ipykernel)",
   "language": "python",
   "name": "python3"
  },
  "language_info": {
   "codemirror_mode": {
    "name": "ipython",
    "version": 3
   },
   "file_extension": ".py",
   "mimetype": "text/x-python",
   "name": "python",
   "nbconvert_exporter": "python",
   "pygments_lexer": "ipython3",
   "version": "3.9.15"
  }
 },
 "nbformat": 4,
 "nbformat_minor": 5
}
