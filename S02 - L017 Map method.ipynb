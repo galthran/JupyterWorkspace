{
 "cells": [
  {
   "cell_type": "code",
   "execution_count": 10,
   "id": "47480cfc",
   "metadata": {},
   "outputs": [],
   "source": [
    "import pandas as pd\n",
    "import numpy as np\n",
    "import matplotlib.pyplot as plt\n",
    "import math as math\n",
    "import random as rd"
   ]
  },
  {
   "cell_type": "code",
   "execution_count": 3,
   "id": "f0d4de2e",
   "metadata": {},
   "outputs": [],
   "source": [
    "planes = {'PYT001':'Airbus 320','PYT002':'Boeing 737','PYT003':'Airbus 321'}"
   ]
  },
  {
   "cell_type": "code",
   "execution_count": 4,
   "id": "0e864602",
   "metadata": {},
   "outputs": [
    {
     "data": {
      "text/plain": [
       "{'PYT001': 'Airbus 320', 'PYT002': 'Boeing 737', 'PYT003': 'Airbus 321'}"
      ]
     },
     "execution_count": 4,
     "metadata": {},
     "output_type": "execute_result"
    }
   ],
   "source": [
    "planes"
   ]
  },
  {
   "cell_type": "code",
   "execution_count": 5,
   "id": "4f55c161",
   "metadata": {},
   "outputs": [],
   "source": [
    "aircrafts = pd.Series(planes)"
   ]
  },
  {
   "cell_type": "code",
   "execution_count": 6,
   "id": "b825cbfb",
   "metadata": {},
   "outputs": [
    {
     "data": {
      "text/plain": [
       "PYT001    Airbus 320\n",
       "PYT002    Boeing 737\n",
       "PYT003    Airbus 321\n",
       "dtype: object"
      ]
     },
     "execution_count": 6,
     "metadata": {},
     "output_type": "execute_result"
    }
   ],
   "source": [
    "aircrafts"
   ]
  },
  {
   "cell_type": "code",
   "execution_count": 7,
   "id": "670154c8",
   "metadata": {},
   "outputs": [],
   "source": [
    "flightsList = []"
   ]
  },
  {
   "cell_type": "code",
   "execution_count": 11,
   "id": "8f9d6559",
   "metadata": {},
   "outputs": [
    {
     "data": {
      "text/plain": [
       "['PYT003', 'PYT002', 'PYT003', 'PYT002', 'PYT003']"
      ]
     },
     "execution_count": 11,
     "metadata": {},
     "output_type": "execute_result"
    }
   ],
   "source": [
    "for i in range(100):\n",
    "    flightsList.append(rd.choice(aircrafts.index))\n",
    "    \n",
    "flightsList[:5]"
   ]
  },
  {
   "cell_type": "code",
   "execution_count": 12,
   "id": "cc515474",
   "metadata": {},
   "outputs": [
    {
     "data": {
      "text/plain": [
       "0    PYT003\n",
       "1    PYT002\n",
       "2    PYT003\n",
       "3    PYT002\n",
       "4    PYT003\n",
       "dtype: object"
      ]
     },
     "execution_count": 12,
     "metadata": {},
     "output_type": "execute_result"
    }
   ],
   "source": [
    "flights = pd.Series(flightsList)\n",
    "flights.head()"
   ]
  },
  {
   "cell_type": "code",
   "execution_count": 13,
   "id": "2d6959d3",
   "metadata": {},
   "outputs": [],
   "source": [
    "flights_aircrafts = flights.map(aircrafts)"
   ]
  },
  {
   "cell_type": "code",
   "execution_count": 14,
   "id": "d0f9162c",
   "metadata": {},
   "outputs": [
    {
     "data": {
      "text/plain": [
       "0     Airbus 321\n",
       "1     Boeing 737\n",
       "2     Airbus 321\n",
       "3     Boeing 737\n",
       "4     Airbus 321\n",
       "         ...    \n",
       "95    Airbus 321\n",
       "96    Airbus 321\n",
       "97    Airbus 321\n",
       "98    Airbus 320\n",
       "99    Boeing 737\n",
       "Length: 100, dtype: object"
      ]
     },
     "execution_count": 14,
     "metadata": {},
     "output_type": "execute_result"
    }
   ],
   "source": [
    "flights_aircrafts"
   ]
  },
  {
   "cell_type": "code",
   "execution_count": null,
   "id": "7d891c6e",
   "metadata": {},
   "outputs": [],
   "source": []
  }
 ],
 "metadata": {
  "kernelspec": {
   "display_name": "Python 3 (ipykernel)",
   "language": "python",
   "name": "python3"
  },
  "language_info": {
   "codemirror_mode": {
    "name": "ipython",
    "version": 3
   },
   "file_extension": ".py",
   "mimetype": "text/x-python",
   "name": "python",
   "nbconvert_exporter": "python",
   "pygments_lexer": "ipython3",
   "version": "3.9.15"
  }
 },
 "nbformat": 4,
 "nbformat_minor": 5
}
